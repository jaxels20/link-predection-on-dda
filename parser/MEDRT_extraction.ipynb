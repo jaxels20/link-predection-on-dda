{
 "cells": [
  {
   "attachments": {},
   "cell_type": "markdown",
   "metadata": {},
   "source": [
    "# MED-RT parser\n",
    "Tenzen Rabgang and Romana Pernisch"
   ]
  },
  {
   "cell_type": "code",
   "execution_count": null,
   "metadata": {},
   "outputs": [],
   "source": [
    "import xmltodict\n",
    "import os\n",
    "from owlready2 import *\n",
    "from collections import OrderedDict "
   ]
  },
  {
   "cell_type": "code",
   "execution_count": 2,
   "metadata": {},
   "outputs": [],
   "source": [
    "file_name_xml = 'Core_MEDRT_2020.10.05_XML.xml'\n",
    "\n",
    "xml_dict = None\n",
    "with open('./data_medrt/{}'.format(file_name_xml), 'r') as xml:\n",
    "    xml_dict = xmltodict.parse(xml.read())"
   ]
  },
  {
   "cell_type": "code",
   "execution_count": 3,
   "metadata": {},
   "outputs": [],
   "source": [
    "namespace = xml_dict['terminology']['namespace']\n",
    "ref_namespaces = xml_dict['terminology']['referencedNamespace']\n",
    "\n",
    "proptypes = xml_dict['terminology']['proptype']\n",
    "assntypes = xml_dict['terminology']['assntype'] # relations e.g. may_treat\n",
    "qualtypes = xml_dict['terminology']['qualtype']\n",
    "\n",
    "terms = xml_dict['terminology']['term'] # name of concepts in MEDRT\n",
    "concepts = xml_dict['terminology']['concept'] # detailed description of concept\n",
    "\n",
    "associations = xml_dict['terminology']['association'] # detailed description of relations"
   ]
  },
  {
   "cell_type": "code",
   "execution_count": 23,
   "metadata": {},
   "outputs": [],
   "source": [
    "may_treat_assoc = []\n",
    "parent_of_assoc = []\n",
    "\n",
    "for assoc in associations:\n",
    "    if assoc['name'] == \"may_treat\":\n",
    "        may_treat_assoc.append(assoc)\n",
    "    elif assoc['name'] == \"Parent Of\":\n",
    "        parent_of_assoc.append(assoc)"
   ]
  },
  {
   "cell_type": "code",
   "execution_count": 24,
   "metadata": {},
   "outputs": [],
   "source": [
    "parent_child_map = {}\n",
    "\n",
    "for pc_assoc in parent_of_assoc:\n",
    "    parent_child_map[pc_assoc['from_code']] = pc_assoc"
   ]
  },
  {
   "cell_type": "code",
   "execution_count": 25,
   "metadata": {},
   "outputs": [],
   "source": [
    "may_treat_assoc_inferred = may_treat_assoc.copy()\n",
    "\n",
    "for mt_assoc in may_treat_assoc:\n",
    "    from_code = mt_assoc['from_code']\n",
    "    to_code = mt_assoc['to_code']\n",
    "\n",
    "    while from_code in parent_child_map:\n",
    "        assoc = parent_child_map[from_code]\n",
    "        \n",
    "        new_mt_assoc = OrderedDict()\n",
    "        new_mt_assoc['from_namespace'] = assoc['to_namespace']\n",
    "        new_mt_assoc['from_code'] = assoc['to_code']\n",
    "        new_mt_assoc['to_namespace'] = mt_assoc['to_namespace']\n",
    "        new_mt_assoc['to_code'] = mt_assoc['to_code']\n",
    "        may_treat_assoc_inferred.append(new_mt_assoc)\n",
    "\n",
    "        from_code = assoc['to_code']\n",
    "    \n",
    "    while to_code in parent_child_map:\n",
    "        assoc = parent_child_map[to_code]\n",
    "        \n",
    "        new_mt_assoc = OrderedDict()\n",
    "        new_mt_assoc['to_namespace'] = assoc['to_namespace']\n",
    "        new_mt_assoc['to_code'] = assoc['to_code']\n",
    "        \n",
    "        new_mt_assoc['from_namespace'] = mt_assoc['from_namespace']\n",
    "        new_mt_assoc['from_code'] = mt_assoc['from_code']\n",
    "        may_treat_assoc_inferred.append(new_mt_assoc)\n",
    "\n",
    "        to_code = assoc['to_code']"
   ]
  },
  {
   "cell_type": "code",
   "execution_count": 26,
   "metadata": {},
   "outputs": [],
   "source": [
    "code_map = {}\n",
    "relations = []\n",
    "\n",
    "for mt_assoc in may_treat_assoc_inferred:\n",
    "    code_map[mt_assoc['from_code']] = { 'code': mt_assoc['from_code'], 'ns': mt_assoc['from_namespace'], 'type': 'drug' }\n",
    "    code_map[mt_assoc['to_code']] = { 'code': mt_assoc['to_code'], 'ns': mt_assoc['to_namespace'], 'type': 'disease' }\n",
    "    \n",
    "    relations.append((mt_assoc['from_code'], mt_assoc['to_code']))"
   ]
  },
  {
   "cell_type": "code",
   "execution_count": 12,
   "metadata": {},
   "outputs": [],
   "source": [
    "drugs = [d for d in code_map.values() if d['type'] == 'drug']\n",
    "diseases = [d for d in code_map.values() if d['type'] == 'disease']\n",
    "\n",
    "# sort by namespace\n",
    "drugs = sorted(drugs, key=lambda k: k['ns'])\n",
    "diseases = sorted(diseases, key=lambda k: k['ns']) "
   ]
  },
  {
   "cell_type": "code",
   "execution_count": 13,
   "metadata": {},
   "outputs": [],
   "source": [
    "code_to_id_map = {}\n",
    "with open('./output/node_list.txt', 'w') as node_list:\n",
    "    for idx, drug in enumerate(drugs):\n",
    "        node_list.write('{} {} {} {}\\n'.format(idx, drug['code'], drug['type'], drug['ns']))\n",
    "        code_to_id_map[drug['code']] = idx\n",
    "        \n",
    "    for idx, disease in enumerate(diseases):\n",
    "        cont_id = idx + len(drugs)\n",
    "        node_list.write('{} {} {} {}\\n'.format(cont_id, disease['code'], disease['type'], disease['ns']))\n",
    "        code_to_id_map[disease['code']] = cont_id"
   ]
  },
  {
   "cell_type": "code",
   "execution_count": 14,
   "metadata": {},
   "outputs": [],
   "source": [
    "with open('./output/medrt.edgelist', 'w') as edge_file:\n",
    "    for rel in relations:\n",
    "        drug_id = code_to_id_map[rel[0]]\n",
    "        disease_id = code_to_id_map[rel[1]]\n",
    "        \n",
    "        edge_file.write(\"{} {}\\n\".format(drug_id, disease_id))"
   ]
  },
  {
   "cell_type": "code",
   "execution_count": 27,
   "metadata": {},
   "outputs": [
    {
     "data": {
      "text/plain": [
       "14476"
      ]
     },
     "execution_count": 27,
     "metadata": {},
     "output_type": "execute_result"
    }
   ],
   "source": [
    "len(may_treat_assoc_inferred)"
   ]
  },
  {
   "cell_type": "code",
   "execution_count": null,
   "metadata": {},
   "outputs": [],
   "source": []
  }
 ],
 "metadata": {
  "kernelspec": {
   "display_name": "Python 3",
   "language": "python",
   "name": "python3"
  },
  "language_info": {
   "codemirror_mode": {
    "name": "ipython",
    "version": 3
   },
   "file_extension": ".py",
   "mimetype": "text/x-python",
   "name": "python",
   "nbconvert_exporter": "python",
   "pygments_lexer": "ipython3",
   "version": "3.10.6"
  },
  "vscode": {
   "interpreter": {
    "hash": "916dbcbb3f70747c44a77c7bcd40155683ae19c65e1c03b4aa3499c5328201f1"
   }
  }
 },
 "nbformat": 4,
 "nbformat_minor": 2
}
