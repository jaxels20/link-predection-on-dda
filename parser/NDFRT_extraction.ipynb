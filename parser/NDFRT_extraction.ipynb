{
 "cells": [
  {
   "attachments": {},
   "cell_type": "markdown",
   "metadata": {},
   "source": [
    "# NDF-RT parser\n",
    "Tenzen Rabgang and Romana Pernisch"
   ]
  },
  {
   "cell_type": "code",
   "execution_count": null,
   "metadata": {},
   "outputs": [],
   "source": [
    "import xmltodict\n",
    "import os\n",
    "from owlready2 import *"
   ]
  },
  {
   "cell_type": "code",
   "execution_count": 3,
   "metadata": {},
   "outputs": [],
   "source": [
    "file_name_xml = './data_ndfrt/NDFRT_Public_2018.02.05_TDE_inferred.xml'\n",
    "\n",
    "xml_dict = None\n",
    "with open(file_name_xml, 'r') as xml:\n",
    "    xml_dict = xmltodict.parse(xml.read())"
   ]
  },
  {
   "cell_type": "code",
   "execution_count": 4,
   "metadata": {},
   "outputs": [],
   "source": [
    "# owl:Ontology\n",
    "namespace = xml_dict['terminology']['namespaceDef']\n",
    "\n",
    "# owl:ObjectProperty\n",
    "roles = xml_dict['terminology']['roleDef']\n",
    "associations = xml_dict['terminology']['associationDef']\n",
    "\n",
    "# owl:DatatypeProperty\n",
    "# owl:AnnotationProperty???\n",
    "properties = xml_dict['terminology']['propertyDef']\n",
    "\n",
    "# owl:Class\n",
    "# concepts = xml_dict['terminology']['conceptDef']\n",
    "concepts = xml_dict['terminology']['conceptInf']\n",
    "\n",
    "# merged to ObjectProperty\n",
    "kinds = xml_dict['terminology']['kindDef']\n",
    "\n",
    "# ???\n",
    "qualifiers = xml_dict['terminology']['qualifierDef']"
   ]
  },
  {
   "cell_type": "code",
   "execution_count": 5,
   "metadata": {},
   "outputs": [],
   "source": [
    "headConcepts = []\n",
    "for concept in concepts:\n",
    "    if concept['definingConcepts'] is None:\n",
    "        headConcepts.append(concept)"
   ]
  },
  {
   "cell_type": "code",
   "execution_count": 6,
   "metadata": {},
   "outputs": [],
   "source": [
    "# (unique identifier of NDF-RT)\n",
    "NUI_Code = ''\n",
    "for props in properties:\n",
    "    if props['name'] == \"NUI\":\n",
    "        NUI_Code = props['code']"
   ]
  },
  {
   "cell_type": "code",
   "execution_count": 7,
   "metadata": {},
   "outputs": [],
   "source": [
    "code_kinds_map = {}\n",
    "for kind in kinds:\n",
    "    code_kinds_map[kind['code']] = kind"
   ]
  },
  {
   "cell_type": "code",
   "execution_count": 8,
   "metadata": {},
   "outputs": [],
   "source": [
    "kind_head_code_map = {}\n",
    "for head in headConcepts:\n",
    "    if head['kind'] in code_kinds_map:\n",
    "        kind_head_code_map[head['kind']] = head['code']"
   ]
  },
  {
   "cell_type": "code",
   "execution_count": 9,
   "metadata": {},
   "outputs": [],
   "source": [
    "code_property_map = {}\n",
    "code_roles_map = {}\n",
    "\n",
    "for props in properties:\n",
    "    code_property_map[props['code']] = props\n",
    "for __role in roles:\n",
    "    code_roles_map[__role['code']] = __role"
   ]
  },
  {
   "cell_type": "code",
   "execution_count": 10,
   "metadata": {},
   "outputs": [],
   "source": [
    "def create_owl_class(onto, concept, owl_dict, owl_roles):\n",
    "    with onto:\n",
    "        value = \"\"\n",
    "        for props in concept['properties']['property']:\n",
    "            if props['name'] == NUI_Code:\n",
    "                value = props['value']\n",
    "\n",
    "        onto_class = types.new_class(value, (Thing,))\n",
    "        onto_class.label = concept['name']\n",
    "        onto_class.code = concept['code']\n",
    "\n",
    "        # creating annotations/tags\n",
    "        if concept['properties']:\n",
    "            for props in concept['properties']['property']:\n",
    "                code = props['name']\n",
    "                if code in code_property_map:\n",
    "                    props_name = code_property_map[code]['name']\n",
    "                    annot_props = types.new_class(props_name, (AnnotationProperty,))\n",
    "                    setattr(onto_class, props_name, props['value'])\n",
    "        \n",
    "        owl_dict[concept['code']] = onto_class\n",
    "    \n",
    "    return (owl_dict, owl_roles)"
   ]
  },
  {
   "cell_type": "code",
   "execution_count": 11,
   "metadata": {},
   "outputs": [],
   "source": [
    "onto = get_ontology(\"test5\")"
   ]
  },
  {
   "cell_type": "code",
   "execution_count": 12,
   "metadata": {},
   "outputs": [],
   "source": [
    "# create data properties\n",
    "owlProps = {}\n",
    "for props in properties:\n",
    "    with onto:\n",
    "        code = types.new_class('code', (AnnotationProperty,))\n",
    "        \n",
    "        onto_data_property = types.new_class(props['name'],  (DataProperty,))\n",
    "        onto_data_property.label = props['name']\n",
    "        onto_data_property.code = props['code']\n",
    "        \n",
    "        owlProps[props['name']] = onto_data_property"
   ]
  },
  {
   "cell_type": "code",
   "execution_count": 13,
   "metadata": {},
   "outputs": [],
   "source": [
    "# create object properties\n",
    "owlRoles = {}\n",
    "for role in roles:\n",
    "    with onto:\n",
    "        onto_data_property = types.new_class(role['code'],  (ObjectProperty,))\n",
    "        onto_data_property.code = role['code']\n",
    "        onto_data_property.label = role['name']\n",
    "\n",
    "        owlRoles[role['code']] = onto_data_property"
   ]
  },
  {
   "cell_type": "code",
   "execution_count": 14,
   "metadata": {},
   "outputs": [],
   "source": [
    "# create top-most classes\n",
    "owlClasses = {}\n",
    "for concept in headConcepts:\n",
    "    owlClasses, owlRoles = create_owl_class(onto, concept, owlClasses, owlRoles)"
   ]
  },
  {
   "cell_type": "code",
   "execution_count": 15,
   "metadata": {},
   "outputs": [],
   "source": [
    "for concept in concepts:\n",
    "    if concept['code'] in owlClasses:\n",
    "        continue\n",
    "    else:\n",
    "        owlClasses, owlRoles = create_owl_class(onto, concept, owlClasses, owlRoles)"
   ]
  },
  {
   "cell_type": "code",
   "execution_count": 16,
   "metadata": {},
   "outputs": [],
   "source": [
    "for concept in concepts:\n",
    "    current_class = owlClasses[concept['code']]\n",
    "    \n",
    "    # add hierarchy\n",
    "    if concept['definingConcepts']:\n",
    "        if type(concept['definingConcepts']['concept']) == str:\n",
    "            concept['definingConcepts']['concept'] = [concept['definingConcepts']['concept']]\n",
    "        \n",
    "        for conc in concept['definingConcepts']['concept']:\n",
    "            current_class.is_a.append(owlClasses[conc])\n",
    "    \n",
    "    # add relations\n",
    "    if concept['definingRoles']:\n",
    "        _role = concept['definingRoles']['role']\n",
    "        concept['definingRoles']['role'] = [_role] if not type(_role) == list else _role\n",
    "\n",
    "        for role in concept['definingRoles']['role']:\n",
    "            if role['name'] in code_roles_map and role['value'] in owlClasses:\n",
    "                if role['name'] in owlRoles:\n",
    "                    new_prop = owlRoles[role['name']]\n",
    "                    current_class.is_a.append(new_prop.some(owlClasses[role['value']]))"
   ]
  },
  {
   "cell_type": "code",
   "execution_count": 17,
   "metadata": {},
   "outputs": [],
   "source": [
    "# add domain/range to roles/ObjectProperty\n",
    "for role in roles:\n",
    "    with onto:\n",
    "        role_props = owlRoles[role['code']]\n",
    "        if role['domain'] in kind_head_code_map:\n",
    "            code_str = kind_head_code_map[role['domain']]\n",
    "            if code_str in owlClasses:\n",
    "                role_props.domain = owlClasses[code_str]\n",
    "        if role['range'] in kind_head_code_map:\n",
    "            code_str = kind_head_code_map[role['range']]\n",
    "            if code_str in owlClasses:\n",
    "                role_props.range = owlClasses[code_str]"
   ]
  },
  {
   "cell_type": "code",
   "execution_count": 18,
   "metadata": {},
   "outputs": [],
   "source": [
    "onto.save('test2.owl')"
   ]
  },
  {
   "cell_type": "code",
   "execution_count": null,
   "metadata": {},
   "outputs": [],
   "source": []
  }
 ],
 "metadata": {
  "kernelspec": {
   "display_name": "Python 3",
   "language": "python",
   "name": "python3"
  },
  "language_info": {
   "codemirror_mode": {
    "name": "ipython",
    "version": 3
   },
   "file_extension": ".py",
   "mimetype": "text/x-python",
   "name": "python",
   "nbconvert_exporter": "python",
   "pygments_lexer": "ipython3",
   "version": "3.10.6"
  },
  "vscode": {
   "interpreter": {
    "hash": "916dbcbb3f70747c44a77c7bcd40155683ae19c65e1c03b4aa3499c5328201f1"
   }
  }
 },
 "nbformat": 4,
 "nbformat_minor": 2
}
